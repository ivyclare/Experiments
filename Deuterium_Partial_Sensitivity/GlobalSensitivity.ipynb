{
 "cells": [
  {
   "cell_type": "markdown",
   "id": "265391f1",
   "metadata": {},
   "source": [
    "# Global Sensitivity Attempt"
   ]
  },
  {
   "cell_type": "code",
   "execution_count": 2,
   "id": "0578d7a9-e41b-48c6-aafd-d76b02f79e7c",
   "metadata": {},
   "outputs": [],
   "source": [
    "import matplotlib.pyplot as plt\n",
    "import seaborn as sns\n",
    "import numpy as np\n",
    "from deuterium import Variable, to_vec, random_symbols\n",
    "import symengine as se\n",
    "from sklearn.metrics import accuracy_score\n",
    "import sys\n",
    "from sympy import sympify\n",
    "from scipy.optimize import shgo\n",
    "sys.setrecursionlimit(1_000_000)\n",
    "import warnings\n",
    "warnings.filterwarnings(\"ignore\")"
   ]
  },
  {
   "cell_type": "markdown",
   "id": "3a5bf6a8",
   "metadata": {},
   "source": [
    "Define some utility functions, notably the loss functions and tempered sigmoid activation functions."
   ]
  },
  {
   "cell_type": "code",
   "execution_count": 3,
   "id": "e2bb4db8",
   "metadata": {},
   "outputs": [],
   "source": [
    "to_data = np.vectorize(lambda x: x.data)\n",
    "\n",
    "def sigmoid(x, s=1, T=1, o=0):\n",
    "        return (s/(1+np.exp(-T*x)))-o\n",
    "\n",
    "def tanh(x):\n",
    "    return sigmoid(x, 2, 2, 1)\n",
    "\n",
    "bce_loss = lambda y_pred, y_true: -np.mean(np.multiply(y_true, np.log(y_pred)) + np.multiply((1 - y_true), np.log(1 - y_pred)))\n",
    "normalize = lambda x: (x-x.min())/(x.max()-x.min())"
   ]
  },
  {
   "cell_type": "markdown",
   "id": "257e70aa",
   "metadata": {},
   "source": [
    "Define the network architecture"
   ]
  },
  {
   "cell_type": "code",
   "execution_count": 4,
   "id": "a2204290-0606-4cbc-be65-a411b7b0f297",
   "metadata": {},
   "outputs": [],
   "source": [
    "IN=25\n",
    "INTERMEDIATE= 8"
   ]
  },
  {
   "cell_type": "code",
   "execution_count": 5,
   "id": "12062985-1289-4617-95e4-b31b8b5e1e41",
   "metadata": {},
   "outputs": [],
   "source": [
    "x = to_vec(np.array(random_symbols(IN, \"x\")).reshape((1,IN))) \n",
    "y = to_vec(np.array(random_symbols(1, \"y\")))\n",
    "\n",
    "w1 = to_vec(np.array(random_symbols(IN*INTERMEDIATE, \"w1\")).reshape(IN, INTERMEDIATE))\n",
    "b = to_vec(np.array(random_symbols(INTERMEDIATE, \"b\")).reshape(1, INTERMEDIATE))\n",
    "w2 = to_vec(np.array(random_symbols(INTERMEDIATE, \"w2\")).reshape(INTERMEDIATE,1))\n",
    "\n",
    "all_symbols = [symb for symb in np.concatenate((x.flatten(), y.flatten(), w1.flatten(), b.flatten(), w2.flatten()))]"
   ]
  },
  {
   "cell_type": "code",
   "execution_count": 6,
   "id": "8223ee7e-a4eb-4b82-820e-61d3fe43fa14",
   "metadata": {},
   "outputs": [],
   "source": [
    "#y_loss = (y_pred - y)**2"
   ]
  },
  {
   "cell_type": "markdown",
   "id": "fed8e79c",
   "metadata": {},
   "source": [
    "Symbolically calculate the network output"
   ]
  },
  {
   "cell_type": "code",
   "execution_count": 7,
   "id": "8ca12457-4d87-406e-bcb7-702b8f1d9f8d",
   "metadata": {},
   "outputs": [],
   "source": [
    "layer_1 = sigmoid(x@w1)+b\n",
    "y_pred = sigmoid(layer_1@w2)\n",
    "loss = bce_loss(y_pred, y)"
   ]
  },
  {
   "cell_type": "code",
   "execution_count": 8,
   "id": "57520b42-d718-4676-a870-3113e7e9320c",
   "metadata": {},
   "outputs": [],
   "source": [
    "loss.backward()"
   ]
  },
  {
   "cell_type": "code",
   "execution_count": 9,
   "id": "611de348-7329-40d1-8c67-847dcc8b3f1e",
   "metadata": {},
   "outputs": [],
   "source": [
    "x_grad = np.array([i.grad for i in x.flatten().tolist()])\n",
    "y_grad = np.array([i.grad for i in y.flatten().tolist()])\n",
    "w1_grad = np.array([i.grad for i in w1.flatten().tolist()])\n",
    "b_grad = np.array([i.grad for i in b.flatten().tolist()])\n",
    "w2_grad = np.array([i.grad for i in w2.flatten().tolist()])\n",
    "\n",
    "full_grad = to_vec(np.concatenate((x_grad, y_grad, w1_grad, b_grad, w2_grad)))"
   ]
  },
  {
   "cell_type": "code",
   "execution_count": null,
   "id": "c2b6c737-213f-4fad-9ba3-7ba467eab46c",
   "metadata": {},
   "outputs": [],
   "source": []
  },
  {
   "cell_type": "markdown",
   "id": "f828e1b8",
   "metadata": {},
   "source": [
    "Obtain the global sensitivity term\n",
    "\n",
    "s $\\ge$ $||G($x_1$) - G($x_2$)||_2$ then \n",
    "\n",
    "$\\forall$ $x_i$. s $\\ge$ $||G($x_1$)||_2$ * 2"
   ]
  },
  {
   "cell_type": "code",
   "execution_count": 10,
   "id": "c7b1e68b-d919-4cba-bdaf-ad27aa772687",
   "metadata": {},
   "outputs": [],
   "source": [
    "norm = np.linalg.norm(full_grad, ord=2)\n",
    "#GS\n",
    "gs = 2 * np.linalg.norm(full_grad, ord=2)  \n",
    "\n",
    "# global_sens = se.Lambdify(to_data(all_symbols), gs, cse=True) #global sensitivities"
   ]
  },
  {
   "cell_type": "markdown",
   "id": "54aae02f-6098-45fc-af93-d08b7a09b2ea",
   "metadata": {},
   "source": [
    "SHGO - Finds the global minimum of a function using SHG optimization.\n",
    "\n",
    "\n",
    "\n",
    "To obtain the Lipschitz constant of the query, we need to maximise the GS by minimising the negative of the GS using a suitable optimiser with a global optimality guarantee. "
   ]
  },
  {
   "cell_type": "code",
   "execution_count": 11,
   "id": "5dbd2d89-9d4f-480c-ba84-98ca6146d3e8",
   "metadata": {},
   "outputs": [],
   "source": [
    "norm_func = se.Lambdify(list(gs.data.free_symbols), - gs.data)"
   ]
  },
  {
   "cell_type": "code",
   "execution_count": 12,
   "id": "4822fad5-f4fe-49d4-b856-b675eafaed0d",
   "metadata": {},
   "outputs": [],
   "source": [
    "# # SHGO minimises the function given certain constraints, in this case the bounds on the variables.\n",
    "# sol = shgo(norm_func, ((1,2), (0.5,3)))\n",
    "# -sol.fun"
   ]
  },
  {
   "cell_type": "markdown",
   "id": "ddeadbc5-3c7e-423e-a474-7273239b2897",
   "metadata": {},
   "source": [
    "Pre-compile all relevant functions to train using substitution later."
   ]
  },
  {
   "cell_type": "code",
   "execution_count": 13,
   "id": "3c39eb79-47b7-4a62-87f9-85d5b2a2c1b7",
   "metadata": {},
   "outputs": [],
   "source": [
    "y_pred_func = se.Lambdify(to_data([symb for symb in np.concatenate((x.flatten(), w1.flatten(), b.flatten(), w2.flatten()))]), to_data(y_pred), cse=True) # output of net\n",
    "loss_func = se.Lambdify(to_data(all_symbols), to_data(loss), cse=True) #loss\n",
    "grad_func = se.Lambdify(to_data(all_symbols), (np.concatenate((w1_grad.flatten(), b_grad.flatten(), w2_grad.flatten()))), cse=True) # gradient w.r.t w+b only\n",
    "\n",
    "full_grad_func = se.Lambdify(to_data(all_symbols), (np.concatenate((x_grad.flatten(), y_grad.flatten(), w1_grad.flatten(), b_grad.flatten(), w2_grad.flatten()))), cse=True) # gradient w.r.t w+b only\n",
    "\n",
    "grad_norm = se.Lambdify(to_data(all_symbols), norm.data, cse=True) #gradient norm \n",
    "#global_sens = se.Lambdify(to_data(all_symbols), gs, cse=True) #global sensitivities\n",
    "\n",
    "norm_func = se.Lambdify(list(gs.data.free_symbols), - gs.data) # for computing maximum with shgo\n",
    "#partial_sens = se.Lambdify(to_data(all_symbols), N, cse=True) #partial sensitivities"
   ]
  },
  {
   "cell_type": "markdown",
   "id": "24ce1f7f-9bae-4e39-ba2a-20da854f9b12",
   "metadata": {},
   "source": [
    "## Substituting Real Values"
   ]
  },
  {
   "cell_type": "markdown",
   "id": "28383a88",
   "metadata": {},
   "source": [
    "The next functions generate synthetic data of vertical and horizontal bars with Gaussian noise."
   ]
  },
  {
   "cell_type": "code",
   "execution_count": 14,
   "id": "791c1571-f4bc-4f76-b311-84080bf53abc",
   "metadata": {},
   "outputs": [],
   "source": [
    "def get_vertical(n=100, train=True):\n",
    "    out = []\n",
    "    vertical = np.array([[0,0,1,0,0],[0,0,1,0,0],[0,0,1,0,0],[0,0,1,0,0],[0,0,1,0,0],]).astype(np.float64).flatten()\n",
    "    for _ in range(n):\n",
    "        ar = vertical + np.random.normal(0, 0.2, size=vertical.shape)\n",
    "        ar = normalize(ar)\n",
    "        if train:\n",
    "            out.append(np.concatenate((ar, [0.])))    \n",
    "        else:\n",
    "            out.append(ar)\n",
    "    #print(np.array(out))\n",
    "    return np.array(out)\n",
    "\n",
    "def get_horizontal(n=100, train=True):\n",
    "    out = []\n",
    "    vertical = np.array([[0,0,0,0,0],[0,0,0,0,0],[1,1,1,1,1],[0,0,0,0,0],[0,0,0,0,0],]).astype(np.float64).flatten()\n",
    "    for _ in range(n):\n",
    "        ar = vertical + np.random.normal(0, 0.2, size=vertical.shape)\n",
    "        ar = normalize(ar)\n",
    "        if train:\n",
    "            out.append(np.concatenate((ar, [1.])))\n",
    "        else:\n",
    "            out.append(ar)\n",
    "    return np.array(out)"
   ]
  },
  {
   "cell_type": "code",
   "execution_count": 15,
   "id": "39aff6a3-5b97-421f-9b7a-07dc5f03279e",
   "metadata": {},
   "outputs": [],
   "source": [
    "LR = 0.1\n",
    "\n",
    "HOW_MANY = 1000\n",
    "\n",
    "vertical = get_vertical(HOW_MANY)\n",
    "horizontal = get_horizontal(HOW_MANY)\n",
    "\n",
    "#weights = np.full((1, len(np.concatenate((w1.flatten(), b.flatten(), w2.flatten())))), 0.01)\n",
    "weights = np.random.uniform(-1., 1., len(np.concatenate((w1.flatten(), b.flatten(), w2.flatten()))))[None, ...]\n",
    "vert_batch = np.hstack((vertical, np.tile(weights, (HOW_MANY, 1))))\n",
    "horiz_batch = np.hstack((horizontal, np.tile(weights, (HOW_MANY, 1))))"
   ]
  },
  {
   "cell_type": "code",
   "execution_count": 16,
   "id": "6933b7ce-c656-4afe-8bdb-b92a6c298740",
   "metadata": {},
   "outputs": [
    {
     "data": {
      "text/plain": [
       "(1.0, -0.9988916748869596)"
      ]
     },
     "execution_count": 16,
     "metadata": {},
     "output_type": "execute_result"
    }
   ],
   "source": [
    "x_1 = np.vstack((vert_batch[0], horiz_batch[0]))\n",
    "x_2 = np.vstack((vert_batch[1], horiz_batch[1]))\n",
    "len(vert_batch[0])\n",
    "x_2.max(), x_2.min()"
   ]
  },
  {
   "cell_type": "markdown",
   "id": "7fe73856-6bae-48ac-92fc-d90ec99e50d1",
   "metadata": {},
   "source": [
    "### Global Sensitivity - 1st Try"
   ]
  },
  {
   "cell_type": "code",
   "execution_count": 19,
   "id": "e140f768-3070-4eff-8f34-020e89bd8942",
   "metadata": {},
   "outputs": [
    {
     "ename": "ValueError",
     "evalue": "Broadcasting failed (input/arg size mismatch)",
     "output_type": "error",
     "traceback": [
      "\u001b[0;31m---------------------------------------------------------------------------\u001b[0m",
      "\u001b[0;31mKeyError\u001b[0m                                  Traceback (most recent call last)",
      "\u001b[0;32m/opt/anaconda3/lib/python3.8/site-packages/scipy/optimize/_shgo_lib/triangulation.py\u001b[0m in \u001b[0;36m__getitem__\u001b[0;34m(self, x, indexed)\u001b[0m\n\u001b[1;32m    629\u001b[0m         \u001b[0;32mtry\u001b[0m\u001b[0;34m:\u001b[0m\u001b[0;34m\u001b[0m\u001b[0;34m\u001b[0m\u001b[0m\n\u001b[0;32m--> 630\u001b[0;31m             \u001b[0;32mreturn\u001b[0m \u001b[0mself\u001b[0m\u001b[0;34m.\u001b[0m\u001b[0mcache\u001b[0m\u001b[0;34m[\u001b[0m\u001b[0mx\u001b[0m\u001b[0;34m]\u001b[0m\u001b[0;34m\u001b[0m\u001b[0;34m\u001b[0m\u001b[0m\n\u001b[0m\u001b[1;32m    631\u001b[0m         \u001b[0;32mexcept\u001b[0m \u001b[0mKeyError\u001b[0m\u001b[0;34m:\u001b[0m\u001b[0;34m\u001b[0m\u001b[0;34m\u001b[0m\u001b[0m\n",
      "\u001b[0;31mKeyError\u001b[0m: (0, 0)",
      "\nDuring handling of the above exception, another exception occurred:\n",
      "\u001b[0;31mValueError\u001b[0m                                Traceback (most recent call last)",
      "\u001b[0;32m<ipython-input-19-501f0ba20a42>\u001b[0m in \u001b[0;36m<module>\u001b[0;34m\u001b[0m\n\u001b[1;32m      7\u001b[0m \u001b[0mbounds\u001b[0m \u001b[0;34m=\u001b[0m\u001b[0;34m[\u001b[0m\u001b[0;34m(\u001b[0m\u001b[0;32mNone\u001b[0m\u001b[0;34m,\u001b[0m \u001b[0;32mNone\u001b[0m\u001b[0;34m)\u001b[0m\u001b[0;34m,\u001b[0m \u001b[0;34m]\u001b[0m\u001b[0;34m*\u001b[0m\u001b[0;36m2\u001b[0m\u001b[0;34m\u001b[0m\u001b[0;34m\u001b[0m\u001b[0m\n\u001b[1;32m      8\u001b[0m \u001b[0;34m\u001b[0m\u001b[0m\n\u001b[0;32m----> 9\u001b[0;31m \u001b[0msol\u001b[0m \u001b[0;34m=\u001b[0m \u001b[0mshgo\u001b[0m\u001b[0;34m(\u001b[0m\u001b[0mnorm_func\u001b[0m\u001b[0;34m,\u001b[0m \u001b[0mbounds\u001b[0m \u001b[0;34m)\u001b[0m \u001b[0;31m#, ((1,2), (0.5,3)))\u001b[0m\u001b[0;34m\u001b[0m\u001b[0;34m\u001b[0m\u001b[0m\n\u001b[0m",
      "\u001b[0;32m/opt/anaconda3/lib/python3.8/site-packages/scipy/optimize/_shgo.py\u001b[0m in \u001b[0;36mshgo\u001b[0;34m(func, bounds, args, constraints, n, iters, callback, minimizer_kwargs, options, sampling_method)\u001b[0m\n\u001b[1;32m    419\u001b[0m \u001b[0;34m\u001b[0m\u001b[0m\n\u001b[1;32m    420\u001b[0m     \u001b[0;31m# Run the algorithm, process results and test success\u001b[0m\u001b[0;34m\u001b[0m\u001b[0;34m\u001b[0m\u001b[0;34m\u001b[0m\u001b[0m\n\u001b[0;32m--> 421\u001b[0;31m     \u001b[0mshc\u001b[0m\u001b[0;34m.\u001b[0m\u001b[0mconstruct_complex\u001b[0m\u001b[0;34m(\u001b[0m\u001b[0;34m)\u001b[0m\u001b[0;34m\u001b[0m\u001b[0;34m\u001b[0m\u001b[0m\n\u001b[0m\u001b[1;32m    422\u001b[0m \u001b[0;34m\u001b[0m\u001b[0m\n\u001b[1;32m    423\u001b[0m     \u001b[0;32mif\u001b[0m \u001b[0;32mnot\u001b[0m \u001b[0mshc\u001b[0m\u001b[0;34m.\u001b[0m\u001b[0mbreak_routine\u001b[0m\u001b[0;34m:\u001b[0m\u001b[0;34m\u001b[0m\u001b[0;34m\u001b[0m\u001b[0m\n",
      "\u001b[0;32m/opt/anaconda3/lib/python3.8/site-packages/scipy/optimize/_shgo.py\u001b[0m in \u001b[0;36mconstruct_complex\u001b[0;34m(self)\u001b[0m\n\u001b[1;32m    724\u001b[0m                 \u001b[0;32mbreak\u001b[0m\u001b[0;34m\u001b[0m\u001b[0;34m\u001b[0m\u001b[0m\n\u001b[1;32m    725\u001b[0m             \u001b[0;31m# Iterate complex, process minimisers\u001b[0m\u001b[0;34m\u001b[0m\u001b[0;34m\u001b[0m\u001b[0;34m\u001b[0m\u001b[0m\n\u001b[0;32m--> 726\u001b[0;31m             \u001b[0mself\u001b[0m\u001b[0;34m.\u001b[0m\u001b[0miterate\u001b[0m\u001b[0;34m(\u001b[0m\u001b[0;34m)\u001b[0m\u001b[0;34m\u001b[0m\u001b[0;34m\u001b[0m\u001b[0m\n\u001b[0m\u001b[1;32m    727\u001b[0m             \u001b[0mself\u001b[0m\u001b[0;34m.\u001b[0m\u001b[0mstopping_criteria\u001b[0m\u001b[0;34m(\u001b[0m\u001b[0;34m)\u001b[0m\u001b[0;34m\u001b[0m\u001b[0;34m\u001b[0m\u001b[0m\n\u001b[1;32m    728\u001b[0m \u001b[0;34m\u001b[0m\u001b[0m\n",
      "\u001b[0;32m/opt/anaconda3/lib/python3.8/site-packages/scipy/optimize/_shgo.py\u001b[0m in \u001b[0;36miterate\u001b[0;34m(self)\u001b[0m\n\u001b[1;32m    867\u001b[0m \u001b[0;34m\u001b[0m\u001b[0m\n\u001b[1;32m    868\u001b[0m     \u001b[0;32mdef\u001b[0m \u001b[0miterate\u001b[0m\u001b[0;34m(\u001b[0m\u001b[0mself\u001b[0m\u001b[0;34m)\u001b[0m\u001b[0;34m:\u001b[0m\u001b[0;34m\u001b[0m\u001b[0;34m\u001b[0m\u001b[0m\n\u001b[0;32m--> 869\u001b[0;31m         \u001b[0mself\u001b[0m\u001b[0;34m.\u001b[0m\u001b[0miterate_complex\u001b[0m\u001b[0;34m(\u001b[0m\u001b[0;34m)\u001b[0m\u001b[0;34m\u001b[0m\u001b[0;34m\u001b[0m\u001b[0m\n\u001b[0m\u001b[1;32m    870\u001b[0m \u001b[0;34m\u001b[0m\u001b[0m\n\u001b[1;32m    871\u001b[0m         \u001b[0;31m# Build minimizer pool\u001b[0m\u001b[0;34m\u001b[0m\u001b[0;34m\u001b[0m\u001b[0;34m\u001b[0m\u001b[0m\n",
      "\u001b[0;32m/opt/anaconda3/lib/python3.8/site-packages/scipy/optimize/_shgo.py\u001b[0m in \u001b[0;36miterate_hypercube\u001b[0;34m(self)\u001b[0m\n\u001b[1;32m    886\u001b[0m         \u001b[0;32mif\u001b[0m \u001b[0mself\u001b[0m\u001b[0;34m.\u001b[0m\u001b[0mn_sampled\u001b[0m \u001b[0;34m==\u001b[0m \u001b[0;36m0\u001b[0m\u001b[0;34m:\u001b[0m\u001b[0;34m\u001b[0m\u001b[0;34m\u001b[0m\u001b[0m\n\u001b[1;32m    887\u001b[0m             \u001b[0;31m# Initial triangulation of the hyper-rectangle\u001b[0m\u001b[0;34m\u001b[0m\u001b[0;34m\u001b[0m\u001b[0;34m\u001b[0m\u001b[0m\n\u001b[0;32m--> 888\u001b[0;31m             self.HC = Complex(self.dim, self.func, self.args,\n\u001b[0m\u001b[1;32m    889\u001b[0m                               \u001b[0mself\u001b[0m\u001b[0;34m.\u001b[0m\u001b[0msymmetry\u001b[0m\u001b[0;34m,\u001b[0m \u001b[0mself\u001b[0m\u001b[0;34m.\u001b[0m\u001b[0mbounds\u001b[0m\u001b[0;34m,\u001b[0m \u001b[0mself\u001b[0m\u001b[0;34m.\u001b[0m\u001b[0mg_cons\u001b[0m\u001b[0;34m,\u001b[0m\u001b[0;34m\u001b[0m\u001b[0;34m\u001b[0m\u001b[0m\n\u001b[1;32m    890\u001b[0m                               self.g_args)\n",
      "\u001b[0;32m/opt/anaconda3/lib/python3.8/site-packages/scipy/optimize/_shgo_lib/triangulation.py\u001b[0m in \u001b[0;36m__init__\u001b[0;34m(self, dim, func, func_args, symmetry, bounds, g_cons, g_args)\u001b[0m\n\u001b[1;32m     23\u001b[0m \u001b[0;34m\u001b[0m\u001b[0m\n\u001b[1;32m     24\u001b[0m         \u001b[0;31m# Generate n-cube here:\u001b[0m\u001b[0;34m\u001b[0m\u001b[0;34m\u001b[0m\u001b[0;34m\u001b[0m\u001b[0m\n\u001b[0;32m---> 25\u001b[0;31m         \u001b[0mself\u001b[0m\u001b[0;34m.\u001b[0m\u001b[0mn_cube\u001b[0m\u001b[0;34m(\u001b[0m\u001b[0mdim\u001b[0m\u001b[0;34m,\u001b[0m \u001b[0msymmetry\u001b[0m\u001b[0;34m=\u001b[0m\u001b[0msymmetry\u001b[0m\u001b[0;34m)\u001b[0m\u001b[0;34m\u001b[0m\u001b[0;34m\u001b[0m\u001b[0m\n\u001b[0m\u001b[1;32m     26\u001b[0m \u001b[0;34m\u001b[0m\u001b[0m\n\u001b[1;32m     27\u001b[0m         \u001b[0;31m# TODO: Assign functions to a the complex instead\u001b[0m\u001b[0;34m\u001b[0m\u001b[0;34m\u001b[0m\u001b[0;34m\u001b[0m\u001b[0m\n",
      "\u001b[0;32m/opt/anaconda3/lib/python3.8/site-packages/scipy/optimize/_shgo_lib/triangulation.py\u001b[0m in \u001b[0;36mn_cube\u001b[0;34m(self, dim, symmetry, printout)\u001b[0m\n\u001b[1;32m     74\u001b[0m         \u001b[0;32melse\u001b[0m\u001b[0;34m:\u001b[0m\u001b[0;34m\u001b[0m\u001b[0;34m\u001b[0m\u001b[0m\n\u001b[1;32m     75\u001b[0m             \u001b[0mself\u001b[0m\u001b[0;34m.\u001b[0m\u001b[0mC0\u001b[0m \u001b[0;34m=\u001b[0m \u001b[0mCell\u001b[0m\u001b[0;34m(\u001b[0m\u001b[0;36m0\u001b[0m\u001b[0;34m,\u001b[0m \u001b[0;36m0\u001b[0m\u001b[0;34m,\u001b[0m \u001b[0morigin\u001b[0m\u001b[0;34m,\u001b[0m \u001b[0msupremum\u001b[0m\u001b[0;34m)\u001b[0m  \u001b[0;31m# Initial cell object\u001b[0m\u001b[0;34m\u001b[0m\u001b[0;34m\u001b[0m\u001b[0m\n\u001b[0;32m---> 76\u001b[0;31m             \u001b[0mself\u001b[0m\u001b[0;34m.\u001b[0m\u001b[0mC0\u001b[0m\u001b[0;34m.\u001b[0m\u001b[0madd_vertex\u001b[0m\u001b[0;34m(\u001b[0m\u001b[0mself\u001b[0m\u001b[0;34m.\u001b[0m\u001b[0mV\u001b[0m\u001b[0;34m[\u001b[0m\u001b[0morigintuple\u001b[0m\u001b[0;34m]\u001b[0m\u001b[0;34m)\u001b[0m\u001b[0;34m\u001b[0m\u001b[0;34m\u001b[0m\u001b[0m\n\u001b[0m\u001b[1;32m     77\u001b[0m             \u001b[0mself\u001b[0m\u001b[0;34m.\u001b[0m\u001b[0mC0\u001b[0m\u001b[0;34m.\u001b[0m\u001b[0madd_vertex\u001b[0m\u001b[0;34m(\u001b[0m\u001b[0mself\u001b[0m\u001b[0;34m.\u001b[0m\u001b[0mV\u001b[0m\u001b[0;34m[\u001b[0m\u001b[0msupremumtuple\u001b[0m\u001b[0;34m]\u001b[0m\u001b[0;34m)\u001b[0m\u001b[0;34m\u001b[0m\u001b[0;34m\u001b[0m\u001b[0m\n\u001b[1;32m     78\u001b[0m \u001b[0;34m\u001b[0m\u001b[0m\n",
      "\u001b[0;32m/opt/anaconda3/lib/python3.8/site-packages/scipy/optimize/_shgo_lib/triangulation.py\u001b[0m in \u001b[0;36m__getitem__\u001b[0;34m(self, x, indexed)\u001b[0m\n\u001b[1;32m    632\u001b[0m             \u001b[0;32mif\u001b[0m \u001b[0mindexed\u001b[0m\u001b[0;34m:\u001b[0m\u001b[0;34m\u001b[0m\u001b[0;34m\u001b[0m\u001b[0m\n\u001b[1;32m    633\u001b[0m                 \u001b[0mself\u001b[0m\u001b[0;34m.\u001b[0m\u001b[0mindex\u001b[0m \u001b[0;34m+=\u001b[0m \u001b[0;36m1\u001b[0m\u001b[0;34m\u001b[0m\u001b[0;34m\u001b[0m\u001b[0m\n\u001b[0;32m--> 634\u001b[0;31m                 xval = Vertex(x, bounds=self.bounds,\n\u001b[0m\u001b[1;32m    635\u001b[0m                               \u001b[0mfunc\u001b[0m\u001b[0;34m=\u001b[0m\u001b[0mself\u001b[0m\u001b[0;34m.\u001b[0m\u001b[0mfunc\u001b[0m\u001b[0;34m,\u001b[0m \u001b[0mfunc_args\u001b[0m\u001b[0;34m=\u001b[0m\u001b[0mself\u001b[0m\u001b[0;34m.\u001b[0m\u001b[0mfunc_args\u001b[0m\u001b[0;34m,\u001b[0m\u001b[0;34m\u001b[0m\u001b[0;34m\u001b[0m\u001b[0m\n\u001b[1;32m    636\u001b[0m                               \u001b[0mg_cons\u001b[0m\u001b[0;34m=\u001b[0m\u001b[0mself\u001b[0m\u001b[0;34m.\u001b[0m\u001b[0mg_cons\u001b[0m\u001b[0;34m,\u001b[0m\u001b[0;34m\u001b[0m\u001b[0;34m\u001b[0m\u001b[0m\n",
      "\u001b[0;32m/opt/anaconda3/lib/python3.8/site-packages/scipy/optimize/_shgo_lib/triangulation.py\u001b[0m in \u001b[0;36m__init__\u001b[0;34m(self, x, bounds, func, func_args, g_cons, g_cons_args, nn, index)\u001b[0m\n\u001b[1;32m    555\u001b[0m                         \u001b[0;32mbreak\u001b[0m\u001b[0;34m\u001b[0m\u001b[0;34m\u001b[0m\u001b[0m\n\u001b[1;32m    556\u001b[0m             \u001b[0;32mif\u001b[0m \u001b[0mself\u001b[0m\u001b[0;34m.\u001b[0m\u001b[0mfeasible\u001b[0m\u001b[0;34m:\u001b[0m\u001b[0;34m\u001b[0m\u001b[0;34m\u001b[0m\u001b[0m\n\u001b[0;32m--> 557\u001b[0;31m                 \u001b[0mself\u001b[0m\u001b[0;34m.\u001b[0m\u001b[0mf\u001b[0m \u001b[0;34m=\u001b[0m \u001b[0mfunc\u001b[0m\u001b[0;34m(\u001b[0m\u001b[0mx_a\u001b[0m\u001b[0;34m,\u001b[0m \u001b[0;34m*\u001b[0m\u001b[0mfunc_args\u001b[0m\u001b[0;34m)\u001b[0m\u001b[0;34m\u001b[0m\u001b[0;34m\u001b[0m\u001b[0m\n\u001b[0m\u001b[1;32m    558\u001b[0m \u001b[0;34m\u001b[0m\u001b[0m\n\u001b[1;32m    559\u001b[0m         \u001b[0;32mif\u001b[0m \u001b[0mnn\u001b[0m \u001b[0;32mis\u001b[0m \u001b[0;32mnot\u001b[0m \u001b[0;32mNone\u001b[0m\u001b[0;34m:\u001b[0m\u001b[0;34m\u001b[0m\u001b[0;34m\u001b[0m\u001b[0m\n",
      "\u001b[0;32msymengine_wrapper.pyx\u001b[0m in \u001b[0;36msymengine.lib.symengine_wrapper._Lambdify.__call__\u001b[0;34m()\u001b[0m\n",
      "\u001b[0;31mValueError\u001b[0m: Broadcasting failed (input/arg size mismatch)"
     ]
    }
   ],
   "source": [
    "# global sensitivity\n",
    "# global_sens =  max_{x, x′} (2 * ‖G_x1‖₂)\n",
    "\n",
    "N = grad_norm(x_1) * 2\n",
    "#N, norm_func(x_1) \n",
    "# bounds = [(0,1), (0, 1)]\n",
    "bounds =[(None, None), ]*2\n",
    "\n",
    "sol = shgo(norm_func, bounds ) #, ((1,2), (0.5,3)))\n",
    "\n",
    "# # SHGO minimises the function given certain constraints, in this case the bounds on the variables.\n",
    "# sol = shgo(norm_func, ((1,2), (0.5,3)))\n",
    "# -sol.fun"
   ]
  },
  {
   "cell_type": "code",
   "execution_count": 91,
   "id": "f8a4dc9c-9709-4641-9cf6-8e5fedbe3900",
   "metadata": {},
   "outputs": [
    {
     "data": {
      "text/plain": [
       "0.005152726515461362"
      ]
     },
     "execution_count": 91,
     "metadata": {},
     "output_type": "execute_result"
    }
   ],
   "source": [
    "# global sensitivity\n",
    "# max_{x, x′} ‖G_x1 - G_x2‖₂\n",
    "\n",
    "full_grad_func\n",
    "norm = np.linalg.norm((G_x1 - G_x2), ord=2)\n",
    "norm"
   ]
  },
  {
   "cell_type": "code",
   "execution_count": null,
   "id": "173ca640-8ddc-4faf-9c60-d486a9e5d242",
   "metadata": {},
   "outputs": [],
   "source": []
  },
  {
   "cell_type": "code",
   "execution_count": null,
   "id": "536e1e59-5ba9-4301-a67b-1a238833be7e",
   "metadata": {},
   "outputs": [],
   "source": []
  },
  {
   "cell_type": "code",
   "execution_count": null,
   "id": "88d26a52-d5ad-4acb-b1a6-43a604e3f33c",
   "metadata": {},
   "outputs": [],
   "source": []
  },
  {
   "cell_type": "code",
   "execution_count": 92,
   "id": "ad7b01cf-5dad-44d8-88cf-63febad0f700",
   "metadata": {},
   "outputs": [],
   "source": [
    "# LR = 0.1\n",
    "\n",
    "# HOW_MANY = 1000\n",
    "\n",
    "# vertical = get_vertical(HOW_MANY)\n",
    "# horizontal = get_horizontal(HOW_MANY)\n",
    "\n",
    "# weights = np.random.uniform(-1., 1., len(np.concatenate((w1.flatten(), b.flatten(), w2.flatten()))))[None, ...]\n",
    "# vert_batch = np.hstack((vertical, np.tile(weights, (HOW_MANY, 1))))\n",
    "# horiz_batch = np.hstack((horizontal, np.tile(weights, (HOW_MANY, 1))))\n",
    "    \n",
    "# # for i in range(1000):\n",
    "# #     if i%100 ==0: print(loss_func(np.vstack((vert_batch, horiz_batch))).mean())\n",
    "# #     G = grad_func(np.vstack((vert_batch,horiz_batch))).mean(axis=0)\n",
    "# #     weights = weights - (G*LR)\n",
    "# #     vert_batch = np.hstack((vertical, np.tile(weights, (HOW_MANY, 1))))\n",
    "# #     horiz_batch = np.hstack((horizontal, np.tile(weights, (HOW_MANY, 1))))"
   ]
  }
 ],
 "metadata": {
  "kernelspec": {
   "display_name": "Python [conda env:root] *",
   "language": "python",
   "name": "conda-root-py"
  },
  "language_info": {
   "codemirror_mode": {
    "name": "ipython",
    "version": 3
   },
   "file_extension": ".py",
   "mimetype": "text/x-python",
   "name": "python",
   "nbconvert_exporter": "python",
   "pygments_lexer": "ipython3",
   "version": "3.8.8"
  }
 },
 "nbformat": 4,
 "nbformat_minor": 5
}
